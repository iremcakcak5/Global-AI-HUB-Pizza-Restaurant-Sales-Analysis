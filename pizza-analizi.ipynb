{
 "cells": [
  {
   "cell_type": "markdown",
   "id": "3c234ebf",
   "metadata": {
    "papermill": {
     "duration": 0.010558,
     "end_time": "2024-11-20T11:45:35.467562",
     "exception": false,
     "start_time": "2024-11-20T11:45:35.457004",
     "status": "completed"
    },
    "tags": []
   },
   "source": [
    "## Veri seti bilgi"
   ]
  },
  {
   "cell_type": "markdown",
   "id": "5eed4bf4",
   "metadata": {
    "papermill": {
     "duration": 0.010307,
     "end_time": "2024-11-20T11:45:35.488090",
     "exception": false,
     "start_time": "2024-11-20T11:45:35.477783",
     "status": "completed"
    },
    "tags": []
   },
   "source": [
    "Veri kümesi, pizza satışlarıyla ilgili bilgileri içermektedir. Bu bilgiler arasında pizza kimliği, sipariş kimliği, pizza adı kimliği, miktar, sipariş tarihi, sipariş saati, birim fiyat, toplam fiyat, pizza boyutu, pizza kategorisi, pizza malzemeleri ve pizza adı yer almaktadır. Her sütun, pizza satış verileriyle ilgili belirli bir özelliği temsil etmektedir. Veri kümesi, pizza ve müşteri işlemleriyle ilgili 48.621 siparişi kapsamaktadır. Bu pizza satış veri kümesi, 12 ilgili özelliği barındırmaktadır."
   ]
  },
  {
   "cell_type": "markdown",
   "id": "1451a793",
   "metadata": {
    "papermill": {
     "duration": 0.009323,
     "end_time": "2024-11-20T11:45:35.507297",
     "exception": false,
     "start_time": "2024-11-20T11:45:35.497974",
     "status": "completed"
    },
    "tags": []
   },
   "source": [
    "* pizza_id: Veri kümesindeki her pizza için benzersiz bir tanımlayıcı.\n",
    "* order_id: Her pizza siparişi için benzersiz bir tanımlayıcı.\n",
    "* pizza_name_id: Her spesifik pizza adına ait tanımlayıcı.\n",
    "* quantity: Her işlemde sipariş edilen pizza sayısı.\n",
    "* order_date: Pizza siparişinin verildiği tarih.\n",
    "* order_time: Pizza siparişinin verildiği saat.\n",
    "* unit_price: Bir adet pizzanın fiyatı.\n",
    "* total_price: Pizza siparişinin toplam fiyatı (birim fiyat ile miktarın çarpımı).\n",
    "* pizza_size: Pizzanın boyutu veya ölçüleri (S, M, L, XL, XXL).\n",
    "* pizza_category: Pizzanın türünü veya stilini belirten kategori veya sınıflandırma (Klasik, Vejetaryen, Süper, Tavuklu).\n",
    "* pizza_ingredients: Pizzanın hazırlanmasında kullanılan malzemelerin listesi.\n",
    "* pizza_name: Her spesifik pizzaya atanan ad veya etiket."
   ]
  },
  {
   "cell_type": "markdown",
   "id": "01454582",
   "metadata": {
    "papermill": {
     "duration": 0.009105,
     "end_time": "2024-11-20T11:45:35.525815",
     "exception": false,
     "start_time": "2024-11-20T11:45:35.516710",
     "status": "completed"
    },
    "tags": []
   },
   "source": [
    "# Kütüphanelerin yüklenmesi"
   ]
  },
  {
   "cell_type": "code",
   "execution_count": 1,
   "id": "05f3d8dd",
   "metadata": {
    "execution": {
     "iopub.execute_input": "2024-11-20T11:45:35.546540Z",
     "iopub.status.busy": "2024-11-20T11:45:35.546137Z",
     "iopub.status.idle": "2024-11-20T11:45:38.892143Z",
     "shell.execute_reply": "2024-11-20T11:45:38.890813Z"
    },
    "papermill": {
     "duration": 3.35926,
     "end_time": "2024-11-20T11:45:38.894633",
     "exception": false,
     "start_time": "2024-11-20T11:45:35.535373",
     "status": "completed"
    },
    "tags": []
   },
   "outputs": [
    {
     "name": "stdout",
     "output_type": "stream",
     "text": [
      "/kaggle/input/pizza-sales/Data Model - Pizza Sales.xlsx\n"
     ]
    }
   ],
   "source": [
    "#data processing\n",
    "import pandas as pd \n",
    "import numpy as np\n",
    "import random\n",
    "# data visualization\n",
    "import matplotlib.pyplot as plt\n",
    "import seaborn as sns\n",
    "import plotly.express as px\n",
    "\n",
    "\n",
    "import os\n",
    "for dirname, _, filenames in os.walk('/kaggle/input'):\n",
    "    for filename in filenames:\n",
    "        print(os.path.join(dirname, filename))\n"
   ]
  },
  {
   "cell_type": "markdown",
   "id": "86034d31",
   "metadata": {
    "papermill": {
     "duration": 0.009483,
     "end_time": "2024-11-20T11:45:38.914334",
     "exception": false,
     "start_time": "2024-11-20T11:45:38.904851",
     "status": "completed"
    },
    "tags": []
   },
   "source": [
    "# Veri okuma ve genel bakış"
   ]
  },
  {
   "cell_type": "code",
   "execution_count": 2,
   "id": "cb436bbd",
   "metadata": {
    "execution": {
     "iopub.execute_input": "2024-11-20T11:45:38.936076Z",
     "iopub.status.busy": "2024-11-20T11:45:38.935470Z",
     "iopub.status.idle": "2024-11-20T11:45:47.498441Z",
     "shell.execute_reply": "2024-11-20T11:45:47.497383Z"
    },
    "papermill": {
     "duration": 8.576848,
     "end_time": "2024-11-20T11:45:47.501032",
     "exception": false,
     "start_time": "2024-11-20T11:45:38.924184",
     "status": "completed"
    },
    "tags": []
   },
   "outputs": [],
   "source": [
    "data = pd.read_excel('/kaggle/input/pizza-sales/Data Model - Pizza Sales.xlsx')"
   ]
  },
  {
   "cell_type": "code",
   "execution_count": 3,
   "id": "8f8929fa",
   "metadata": {
    "execution": {
     "iopub.execute_input": "2024-11-20T11:45:47.522868Z",
     "iopub.status.busy": "2024-11-20T11:45:47.522296Z",
     "iopub.status.idle": "2024-11-20T11:45:47.581397Z",
     "shell.execute_reply": "2024-11-20T11:45:47.579962Z"
    },
    "papermill": {
     "duration": 0.072661,
     "end_time": "2024-11-20T11:45:47.583804",
     "exception": false,
     "start_time": "2024-11-20T11:45:47.511143",
     "status": "completed"
    },
    "tags": []
   },
   "outputs": [
    {
     "name": "stdout",
     "output_type": "stream",
     "text": [
      "<class 'pandas.core.frame.DataFrame'>\n",
      "RangeIndex: 48620 entries, 0 to 48619\n",
      "Data columns (total 12 columns):\n",
      " #   Column             Non-Null Count  Dtype         \n",
      "---  ------             --------------  -----         \n",
      " 0   order_details_id   48620 non-null  int64         \n",
      " 1   order_id           48620 non-null  int64         \n",
      " 2   pizza_id           48620 non-null  object        \n",
      " 3   quantity           48620 non-null  int64         \n",
      " 4   order_date         48620 non-null  datetime64[ns]\n",
      " 5   order_time         48620 non-null  object        \n",
      " 6   unit_price         48620 non-null  float64       \n",
      " 7   total_price        48620 non-null  float64       \n",
      " 8   pizza_size         48620 non-null  object        \n",
      " 9   pizza_category     48620 non-null  object        \n",
      " 10  pizza_ingredients  48620 non-null  object        \n",
      " 11  pizza_name         48620 non-null  object        \n",
      "dtypes: datetime64[ns](1), float64(2), int64(3), object(6)\n",
      "memory usage: 4.5+ MB\n"
     ]
    }
   ],
   "source": [
    "data.info()"
   ]
  },
  {
   "cell_type": "code",
   "execution_count": 4,
   "id": "220302fa",
   "metadata": {
    "execution": {
     "iopub.execute_input": "2024-11-20T11:45:47.607941Z",
     "iopub.status.busy": "2024-11-20T11:45:47.606714Z",
     "iopub.status.idle": "2024-11-20T11:45:47.637199Z",
     "shell.execute_reply": "2024-11-20T11:45:47.636001Z"
    },
    "papermill": {
     "duration": 0.045141,
     "end_time": "2024-11-20T11:45:47.639533",
     "exception": false,
     "start_time": "2024-11-20T11:45:47.594392",
     "status": "completed"
    },
    "tags": []
   },
   "outputs": [
    {
     "data": {
      "text/html": [
       "<div>\n",
       "<style scoped>\n",
       "    .dataframe tbody tr th:only-of-type {\n",
       "        vertical-align: middle;\n",
       "    }\n",
       "\n",
       "    .dataframe tbody tr th {\n",
       "        vertical-align: top;\n",
       "    }\n",
       "\n",
       "    .dataframe thead th {\n",
       "        text-align: right;\n",
       "    }\n",
       "</style>\n",
       "<table border=\"1\" class=\"dataframe\">\n",
       "  <thead>\n",
       "    <tr style=\"text-align: right;\">\n",
       "      <th></th>\n",
       "      <th>order_details_id</th>\n",
       "      <th>order_id</th>\n",
       "      <th>pizza_id</th>\n",
       "      <th>quantity</th>\n",
       "      <th>order_date</th>\n",
       "      <th>order_time</th>\n",
       "      <th>unit_price</th>\n",
       "      <th>total_price</th>\n",
       "      <th>pizza_size</th>\n",
       "      <th>pizza_category</th>\n",
       "      <th>pizza_ingredients</th>\n",
       "      <th>pizza_name</th>\n",
       "    </tr>\n",
       "  </thead>\n",
       "  <tbody>\n",
       "    <tr>\n",
       "      <th>8808</th>\n",
       "      <td>8809</td>\n",
       "      <td>3863</td>\n",
       "      <td>pepperoni_l</td>\n",
       "      <td>1</td>\n",
       "      <td>2015-03-06</td>\n",
       "      <td>19:50:37</td>\n",
       "      <td>15.25</td>\n",
       "      <td>15.25</td>\n",
       "      <td>L</td>\n",
       "      <td>Classic</td>\n",
       "      <td>Mozzarella Cheese, Pepperoni</td>\n",
       "      <td>The Pepperoni Pizza</td>\n",
       "    </tr>\n",
       "    <tr>\n",
       "      <th>16516</th>\n",
       "      <td>16517</td>\n",
       "      <td>7272</td>\n",
       "      <td>pep_msh_pep_m</td>\n",
       "      <td>1</td>\n",
       "      <td>2015-05-02</td>\n",
       "      <td>17:03:08</td>\n",
       "      <td>14.50</td>\n",
       "      <td>14.50</td>\n",
       "      <td>M</td>\n",
       "      <td>Classic</td>\n",
       "      <td>Pepperoni, Mushrooms, Green Peppers</td>\n",
       "      <td>The Pepperoni, Mushroom, and Peppers Pizza</td>\n",
       "    </tr>\n",
       "    <tr>\n",
       "      <th>48566</th>\n",
       "      <td>48567</td>\n",
       "      <td>21326</td>\n",
       "      <td>ital_veggie_m</td>\n",
       "      <td>1</td>\n",
       "      <td>2015-12-31</td>\n",
       "      <td>18:38:38</td>\n",
       "      <td>16.75</td>\n",
       "      <td>16.75</td>\n",
       "      <td>M</td>\n",
       "      <td>Veggie</td>\n",
       "      <td>Eggplant, Artichokes, Tomatoes, Zucchini, Red ...</td>\n",
       "      <td>The Italian Vegetables Pizza</td>\n",
       "    </tr>\n",
       "    <tr>\n",
       "      <th>40467</th>\n",
       "      <td>40468</td>\n",
       "      <td>17825</td>\n",
       "      <td>cali_ckn_m</td>\n",
       "      <td>1</td>\n",
       "      <td>2015-10-31</td>\n",
       "      <td>15:26:05</td>\n",
       "      <td>16.75</td>\n",
       "      <td>16.75</td>\n",
       "      <td>M</td>\n",
       "      <td>Chicken</td>\n",
       "      <td>Chicken, Artichoke, Spinach, Garlic, Jalapeno ...</td>\n",
       "      <td>The California Chicken Pizza</td>\n",
       "    </tr>\n",
       "  </tbody>\n",
       "</table>\n",
       "</div>"
      ],
      "text/plain": [
       "       order_details_id  order_id       pizza_id  quantity order_date  \\\n",
       "8808               8809      3863    pepperoni_l         1 2015-03-06   \n",
       "16516             16517      7272  pep_msh_pep_m         1 2015-05-02   \n",
       "48566             48567     21326  ital_veggie_m         1 2015-12-31   \n",
       "40467             40468     17825     cali_ckn_m         1 2015-10-31   \n",
       "\n",
       "      order_time  unit_price  total_price pizza_size pizza_category  \\\n",
       "8808    19:50:37       15.25        15.25          L        Classic   \n",
       "16516   17:03:08       14.50        14.50          M        Classic   \n",
       "48566   18:38:38       16.75        16.75          M         Veggie   \n",
       "40467   15:26:05       16.75        16.75          M        Chicken   \n",
       "\n",
       "                                       pizza_ingredients  \\\n",
       "8808                        Mozzarella Cheese, Pepperoni   \n",
       "16516                Pepperoni, Mushrooms, Green Peppers   \n",
       "48566  Eggplant, Artichokes, Tomatoes, Zucchini, Red ...   \n",
       "40467  Chicken, Artichoke, Spinach, Garlic, Jalapeno ...   \n",
       "\n",
       "                                       pizza_name  \n",
       "8808                          The Pepperoni Pizza  \n",
       "16516  The Pepperoni, Mushroom, and Peppers Pizza  \n",
       "48566                The Italian Vegetables Pizza  \n",
       "40467                The California Chicken Pizza  "
      ]
     },
     "execution_count": 4,
     "metadata": {},
     "output_type": "execute_result"
    }
   ],
   "source": [
    "data.sample(4)"
   ]
  },
  {
   "cell_type": "code",
   "execution_count": 5,
   "id": "ccfa698c",
   "metadata": {
    "execution": {
     "iopub.execute_input": "2024-11-20T11:45:47.661397Z",
     "iopub.status.busy": "2024-11-20T11:45:47.660987Z",
     "iopub.status.idle": "2024-11-20T11:45:47.685818Z",
     "shell.execute_reply": "2024-11-20T11:45:47.684761Z"
    },
    "papermill": {
     "duration": 0.038465,
     "end_time": "2024-11-20T11:45:47.688112",
     "exception": false,
     "start_time": "2024-11-20T11:45:47.649647",
     "status": "completed"
    },
    "tags": []
   },
   "outputs": [
    {
     "data": {
      "text/plain": [
       "order_details_id     0\n",
       "order_id             0\n",
       "pizza_id             0\n",
       "quantity             0\n",
       "order_date           0\n",
       "order_time           0\n",
       "unit_price           0\n",
       "total_price          0\n",
       "pizza_size           0\n",
       "pizza_category       0\n",
       "pizza_ingredients    0\n",
       "pizza_name           0\n",
       "dtype: int64"
      ]
     },
     "execution_count": 5,
     "metadata": {},
     "output_type": "execute_result"
    }
   ],
   "source": [
    "data.isnull().sum()"
   ]
  },
  {
   "cell_type": "markdown",
   "id": "dc873c6f",
   "metadata": {
    "papermill": {
     "duration": 0.010386,
     "end_time": "2024-11-20T11:45:47.709069",
     "exception": false,
     "start_time": "2024-11-20T11:45:47.698683",
     "status": "completed"
    },
    "tags": []
   },
   "source": [
    "##### Burada verisetinde hiç eksik olmadığını anlıyoruz.Eksik veri elde etmek için aşağıdaki fonksiyonu kullanalım."
   ]
  },
  {
   "cell_type": "code",
   "execution_count": 6,
   "id": "4f55d99c",
   "metadata": {
    "execution": {
     "iopub.execute_input": "2024-11-20T11:45:47.732286Z",
     "iopub.status.busy": "2024-11-20T11:45:47.731054Z",
     "iopub.status.idle": "2024-11-20T11:45:47.736739Z",
     "shell.execute_reply": "2024-11-20T11:45:47.735580Z"
    },
    "papermill": {
     "duration": 0.019696,
     "end_time": "2024-11-20T11:45:47.739192",
     "exception": false,
     "start_time": "2024-11-20T11:45:47.719496",
     "status": "completed"
    },
    "tags": []
   },
   "outputs": [],
   "source": [
    "data=pd.DataFrame(data)"
   ]
  },
  {
   "cell_type": "code",
   "execution_count": 7,
   "id": "1861dbd2",
   "metadata": {
    "execution": {
     "iopub.execute_input": "2024-11-20T11:45:47.761401Z",
     "iopub.status.busy": "2024-11-20T11:45:47.761002Z",
     "iopub.status.idle": "2024-11-20T11:45:47.768430Z",
     "shell.execute_reply": "2024-11-20T11:45:47.767276Z"
    },
    "papermill": {
     "duration": 0.021534,
     "end_time": "2024-11-20T11:45:47.771069",
     "exception": false,
     "start_time": "2024-11-20T11:45:47.749535",
     "status": "completed"
    },
    "tags": []
   },
   "outputs": [],
   "source": [
    "def add_random_missing_values(dataframe: pd.DataFrame,\n",
    "                              missing_rate: float = 0.05) -> pd.DataFrame:\n",
    "    \"\"\"Turns random values to NaN in a DataFrame.\n",
    "\n",
    "    To use this function, you need to import pandas, numpy and random libraries.\n",
    "\n",
    "    Args:\n",
    "        dataframe (pd.DataFrame): DataFrame to be processed.\n",
    "        missing_rate (float): Percentage of missing value rate in float format. Defaults 0.05\n",
    "\n",
    "    Returns:\n",
    "        df_missing (pd.DataFrame): Processed DataFrame object.\n",
    "\n",
    "    \"\"\"\n",
    "    # Get copy of dataframe\n",
    "    df_missing = dataframe.copy()\n",
    "\n",
    "    # Obtain size of dataframe and number total number of missing values\n",
    "    df_size = dataframe.size\n",
    "    num_missing = int(df_size * missing_rate)\n",
    "\n",
    "    # Get random row and column indexes to turn them NaN\n",
    "    for _ in range(num_missing):\n",
    "        row_idx = random.randint(0, dataframe.shape[0] - 1)\n",
    "        col_idx = random.randint(0, dataframe.shape[1] - 1)\n",
    "\n",
    "        df_missing.iat[row_idx, col_idx] = np.nan\n",
    "\n",
    "    return df_missing"
   ]
  },
  {
   "cell_type": "code",
   "execution_count": 8,
   "id": "90319113",
   "metadata": {
    "execution": {
     "iopub.execute_input": "2024-11-20T11:45:47.798478Z",
     "iopub.status.busy": "2024-11-20T11:45:47.798093Z",
     "iopub.status.idle": "2024-11-20T11:45:47.803016Z",
     "shell.execute_reply": "2024-11-20T11:45:47.801734Z"
    },
    "papermill": {
     "duration": 0.019658,
     "end_time": "2024-11-20T11:45:47.805412",
     "exception": false,
     "start_time": "2024-11-20T11:45:47.785754",
     "status": "completed"
    },
    "tags": []
   },
   "outputs": [],
   "source": [
    "#data = df_with_missing\n"
   ]
  },
  {
   "cell_type": "markdown",
   "id": "8ac59df2",
   "metadata": {
    "papermill": {
     "duration": 0.010098,
     "end_time": "2024-11-20T11:45:47.825731",
     "exception": false,
     "start_time": "2024-11-20T11:45:47.815633",
     "status": "completed"
    },
    "tags": []
   },
   "source": [
    "###### tekrar çalıştılırdığı için hata veriyor."
   ]
  },
  {
   "cell_type": "code",
   "execution_count": 9,
   "id": "88479292",
   "metadata": {
    "execution": {
     "iopub.execute_input": "2024-11-20T11:45:47.848526Z",
     "iopub.status.busy": "2024-11-20T11:45:47.848149Z",
     "iopub.status.idle": "2024-11-20T11:45:48.829447Z",
     "shell.execute_reply": "2024-11-20T11:45:48.828256Z"
    },
    "papermill": {
     "duration": 0.995639,
     "end_time": "2024-11-20T11:45:48.832129",
     "exception": false,
     "start_time": "2024-11-20T11:45:47.836490",
     "status": "completed"
    },
    "tags": []
   },
   "outputs": [],
   "source": [
    "# Fonksiyonu çağır ve %10 eksik veri ekle\n",
    "data = add_random_missing_values(data, missing_rate=0.1)\n"
   ]
  },
  {
   "cell_type": "markdown",
   "id": "39376661",
   "metadata": {
    "papermill": {
     "duration": 0.010502,
     "end_time": "2024-11-20T11:45:48.853287",
     "exception": false,
     "start_time": "2024-11-20T11:45:48.842785",
     "status": "completed"
    },
    "tags": []
   },
   "source": [
    "##### Şimdi tekrar eksik verileri kontrol edelim."
   ]
  },
  {
   "cell_type": "code",
   "execution_count": 10,
   "id": "8bf159aa",
   "metadata": {
    "execution": {
     "iopub.execute_input": "2024-11-20T11:45:48.876392Z",
     "iopub.status.busy": "2024-11-20T11:45:48.875994Z",
     "iopub.status.idle": "2024-11-20T11:45:48.900684Z",
     "shell.execute_reply": "2024-11-20T11:45:48.899559Z"
    },
    "papermill": {
     "duration": 0.038844,
     "end_time": "2024-11-20T11:45:48.902848",
     "exception": false,
     "start_time": "2024-11-20T11:45:48.864004",
     "status": "completed"
    },
    "tags": []
   },
   "outputs": [
    {
     "data": {
      "text/plain": [
       "order_details_id     4694\n",
       "order_id             4626\n",
       "pizza_id             4721\n",
       "quantity             4717\n",
       "order_date           4596\n",
       "order_time           4640\n",
       "unit_price           4758\n",
       "total_price          4646\n",
       "pizza_size           4571\n",
       "pizza_category       4499\n",
       "pizza_ingredients    4436\n",
       "pizza_name           4670\n",
       "dtype: int64"
      ]
     },
     "execution_count": 10,
     "metadata": {},
     "output_type": "execute_result"
    }
   ],
   "source": [
    "data.isnull().sum()"
   ]
  },
  {
   "cell_type": "code",
   "execution_count": 11,
   "id": "860da573",
   "metadata": {
    "execution": {
     "iopub.execute_input": "2024-11-20T11:45:48.925264Z",
     "iopub.status.busy": "2024-11-20T11:45:48.924857Z",
     "iopub.status.idle": "2024-11-20T11:45:48.963369Z",
     "shell.execute_reply": "2024-11-20T11:45:48.962299Z"
    },
    "papermill": {
     "duration": 0.052737,
     "end_time": "2024-11-20T11:45:48.965957",
     "exception": false,
     "start_time": "2024-11-20T11:45:48.913220",
     "status": "completed"
    },
    "tags": []
   },
   "outputs": [
    {
     "data": {
      "text/html": [
       "<div>\n",
       "<style scoped>\n",
       "    .dataframe tbody tr th:only-of-type {\n",
       "        vertical-align: middle;\n",
       "    }\n",
       "\n",
       "    .dataframe tbody tr th {\n",
       "        vertical-align: top;\n",
       "    }\n",
       "\n",
       "    .dataframe thead th {\n",
       "        text-align: right;\n",
       "    }\n",
       "</style>\n",
       "<table border=\"1\" class=\"dataframe\">\n",
       "  <thead>\n",
       "    <tr style=\"text-align: right;\">\n",
       "      <th></th>\n",
       "      <th>order_details_id</th>\n",
       "      <th>order_id</th>\n",
       "      <th>pizza_id</th>\n",
       "      <th>quantity</th>\n",
       "      <th>order_date</th>\n",
       "      <th>order_time</th>\n",
       "      <th>unit_price</th>\n",
       "      <th>total_price</th>\n",
       "      <th>pizza_size</th>\n",
       "      <th>pizza_category</th>\n",
       "      <th>pizza_ingredients</th>\n",
       "      <th>pizza_name</th>\n",
       "    </tr>\n",
       "  </thead>\n",
       "  <tbody>\n",
       "    <tr>\n",
       "      <th>2</th>\n",
       "      <td>3.0</td>\n",
       "      <td>2.0</td>\n",
       "      <td>five_cheese_l</td>\n",
       "      <td>1.0</td>\n",
       "      <td>2015-01-01</td>\n",
       "      <td>11:57:40</td>\n",
       "      <td>18.50</td>\n",
       "      <td>18.50</td>\n",
       "      <td>L</td>\n",
       "      <td>Veggie</td>\n",
       "      <td>Mozzarella Cheese, Provolone Cheese, Smoked Go...</td>\n",
       "      <td>The Five Cheese Pizza</td>\n",
       "    </tr>\n",
       "    <tr>\n",
       "      <th>5</th>\n",
       "      <td>6.0</td>\n",
       "      <td>2.0</td>\n",
       "      <td>thai_ckn_l</td>\n",
       "      <td>1.0</td>\n",
       "      <td>2015-01-01</td>\n",
       "      <td>11:57:40</td>\n",
       "      <td>20.75</td>\n",
       "      <td>20.75</td>\n",
       "      <td>L</td>\n",
       "      <td>Chicken</td>\n",
       "      <td>Chicken, Pineapple, Tomatoes, Red Peppers, Tha...</td>\n",
       "      <td>The Thai Chicken Pizza</td>\n",
       "    </tr>\n",
       "    <tr>\n",
       "      <th>9</th>\n",
       "      <td>10.0</td>\n",
       "      <td>5.0</td>\n",
       "      <td>ital_supr_m</td>\n",
       "      <td>1.0</td>\n",
       "      <td>2015-01-01</td>\n",
       "      <td>12:21:30</td>\n",
       "      <td>16.50</td>\n",
       "      <td>16.50</td>\n",
       "      <td>M</td>\n",
       "      <td>Supreme</td>\n",
       "      <td>Calabrese Salami, Capocollo, Tomatoes, Red Oni...</td>\n",
       "      <td>The Italian Supreme Pizza</td>\n",
       "    </tr>\n",
       "    <tr>\n",
       "      <th>11</th>\n",
       "      <td>12.0</td>\n",
       "      <td>6.0</td>\n",
       "      <td>the_greek_s</td>\n",
       "      <td>1.0</td>\n",
       "      <td>2015-01-01</td>\n",
       "      <td>12:29:36</td>\n",
       "      <td>12.00</td>\n",
       "      <td>12.00</td>\n",
       "      <td>S</td>\n",
       "      <td>Classic</td>\n",
       "      <td>Kalamata Olives, Feta Cheese, Tomatoes, Garlic...</td>\n",
       "      <td>The Greek Pizza</td>\n",
       "    </tr>\n",
       "    <tr>\n",
       "      <th>19</th>\n",
       "      <td>20.0</td>\n",
       "      <td>9.0</td>\n",
       "      <td>mexicana_s</td>\n",
       "      <td>1.0</td>\n",
       "      <td>2015-01-01</td>\n",
       "      <td>12:52:01</td>\n",
       "      <td>12.00</td>\n",
       "      <td>12.00</td>\n",
       "      <td>S</td>\n",
       "      <td>Veggie</td>\n",
       "      <td>Tomatoes, Red Peppers, Jalapeno Peppers, Red O...</td>\n",
       "      <td>The Mexicana Pizza</td>\n",
       "    </tr>\n",
       "    <tr>\n",
       "      <th>...</th>\n",
       "      <td>...</td>\n",
       "      <td>...</td>\n",
       "      <td>...</td>\n",
       "      <td>...</td>\n",
       "      <td>...</td>\n",
       "      <td>...</td>\n",
       "      <td>...</td>\n",
       "      <td>...</td>\n",
       "      <td>...</td>\n",
       "      <td>...</td>\n",
       "      <td>...</td>\n",
       "      <td>...</td>\n",
       "    </tr>\n",
       "    <tr>\n",
       "      <th>48610</th>\n",
       "      <td>48611.0</td>\n",
       "      <td>21346.0</td>\n",
       "      <td>soppressata_l</td>\n",
       "      <td>1.0</td>\n",
       "      <td>2015-12-31</td>\n",
       "      <td>20:51:07</td>\n",
       "      <td>20.75</td>\n",
       "      <td>20.75</td>\n",
       "      <td>L</td>\n",
       "      <td>Supreme</td>\n",
       "      <td>Soppressata Salami, Fontina Cheese, Mozzarella...</td>\n",
       "      <td>The Soppressata Pizza</td>\n",
       "    </tr>\n",
       "    <tr>\n",
       "      <th>48614</th>\n",
       "      <td>48615.0</td>\n",
       "      <td>21347.0</td>\n",
       "      <td>southw_ckn_l</td>\n",
       "      <td>1.0</td>\n",
       "      <td>2015-12-31</td>\n",
       "      <td>21:14:37</td>\n",
       "      <td>20.75</td>\n",
       "      <td>20.75</td>\n",
       "      <td>L</td>\n",
       "      <td>Chicken</td>\n",
       "      <td>Chicken, Tomatoes, Red Peppers, Red Onions, Ja...</td>\n",
       "      <td>The Southwest Chicken Pizza</td>\n",
       "    </tr>\n",
       "    <tr>\n",
       "      <th>48617</th>\n",
       "      <td>48618.0</td>\n",
       "      <td>21348.0</td>\n",
       "      <td>napolitana_s</td>\n",
       "      <td>1.0</td>\n",
       "      <td>2015-12-31</td>\n",
       "      <td>21:23:10</td>\n",
       "      <td>12.00</td>\n",
       "      <td>12.00</td>\n",
       "      <td>S</td>\n",
       "      <td>Classic</td>\n",
       "      <td>Tomatoes, Anchovies, Green Olives, Red Onions,...</td>\n",
       "      <td>The Napolitana Pizza</td>\n",
       "    </tr>\n",
       "    <tr>\n",
       "      <th>48618</th>\n",
       "      <td>48619.0</td>\n",
       "      <td>21349.0</td>\n",
       "      <td>mexicana_l</td>\n",
       "      <td>1.0</td>\n",
       "      <td>2015-12-31</td>\n",
       "      <td>22:09:54</td>\n",
       "      <td>20.25</td>\n",
       "      <td>20.25</td>\n",
       "      <td>L</td>\n",
       "      <td>Veggie</td>\n",
       "      <td>Tomatoes, Red Peppers, Jalapeno Peppers, Red O...</td>\n",
       "      <td>The Mexicana Pizza</td>\n",
       "    </tr>\n",
       "    <tr>\n",
       "      <th>48619</th>\n",
       "      <td>48620.0</td>\n",
       "      <td>21350.0</td>\n",
       "      <td>bbq_ckn_s</td>\n",
       "      <td>1.0</td>\n",
       "      <td>2015-12-31</td>\n",
       "      <td>23:02:05</td>\n",
       "      <td>12.75</td>\n",
       "      <td>12.75</td>\n",
       "      <td>S</td>\n",
       "      <td>Chicken</td>\n",
       "      <td>Barbecued Chicken, Red Peppers, Green Peppers,...</td>\n",
       "      <td>The Barbecue Chicken Pizza</td>\n",
       "    </tr>\n",
       "  </tbody>\n",
       "</table>\n",
       "<p>14500 rows × 12 columns</p>\n",
       "</div>"
      ],
      "text/plain": [
       "       order_details_id  order_id       pizza_id  quantity order_date  \\\n",
       "2                   3.0       2.0  five_cheese_l       1.0 2015-01-01   \n",
       "5                   6.0       2.0     thai_ckn_l       1.0 2015-01-01   \n",
       "9                  10.0       5.0    ital_supr_m       1.0 2015-01-01   \n",
       "11                 12.0       6.0    the_greek_s       1.0 2015-01-01   \n",
       "19                 20.0       9.0     mexicana_s       1.0 2015-01-01   \n",
       "...                 ...       ...            ...       ...        ...   \n",
       "48610           48611.0   21346.0  soppressata_l       1.0 2015-12-31   \n",
       "48614           48615.0   21347.0   southw_ckn_l       1.0 2015-12-31   \n",
       "48617           48618.0   21348.0   napolitana_s       1.0 2015-12-31   \n",
       "48618           48619.0   21349.0     mexicana_l       1.0 2015-12-31   \n",
       "48619           48620.0   21350.0      bbq_ckn_s       1.0 2015-12-31   \n",
       "\n",
       "      order_time  unit_price  total_price pizza_size pizza_category  \\\n",
       "2       11:57:40       18.50        18.50          L         Veggie   \n",
       "5       11:57:40       20.75        20.75          L        Chicken   \n",
       "9       12:21:30       16.50        16.50          M        Supreme   \n",
       "11      12:29:36       12.00        12.00          S        Classic   \n",
       "19      12:52:01       12.00        12.00          S         Veggie   \n",
       "...          ...         ...          ...        ...            ...   \n",
       "48610   20:51:07       20.75        20.75          L        Supreme   \n",
       "48614   21:14:37       20.75        20.75          L        Chicken   \n",
       "48617   21:23:10       12.00        12.00          S        Classic   \n",
       "48618   22:09:54       20.25        20.25          L         Veggie   \n",
       "48619   23:02:05       12.75        12.75          S        Chicken   \n",
       "\n",
       "                                       pizza_ingredients  \\\n",
       "2      Mozzarella Cheese, Provolone Cheese, Smoked Go...   \n",
       "5      Chicken, Pineapple, Tomatoes, Red Peppers, Tha...   \n",
       "9      Calabrese Salami, Capocollo, Tomatoes, Red Oni...   \n",
       "11     Kalamata Olives, Feta Cheese, Tomatoes, Garlic...   \n",
       "19     Tomatoes, Red Peppers, Jalapeno Peppers, Red O...   \n",
       "...                                                  ...   \n",
       "48610  Soppressata Salami, Fontina Cheese, Mozzarella...   \n",
       "48614  Chicken, Tomatoes, Red Peppers, Red Onions, Ja...   \n",
       "48617  Tomatoes, Anchovies, Green Olives, Red Onions,...   \n",
       "48618  Tomatoes, Red Peppers, Jalapeno Peppers, Red O...   \n",
       "48619  Barbecued Chicken, Red Peppers, Green Peppers,...   \n",
       "\n",
       "                        pizza_name  \n",
       "2            The Five Cheese Pizza  \n",
       "5           The Thai Chicken Pizza  \n",
       "9        The Italian Supreme Pizza  \n",
       "11                 The Greek Pizza  \n",
       "19              The Mexicana Pizza  \n",
       "...                            ...  \n",
       "48610        The Soppressata Pizza  \n",
       "48614  The Southwest Chicken Pizza  \n",
       "48617         The Napolitana Pizza  \n",
       "48618           The Mexicana Pizza  \n",
       "48619   The Barbecue Chicken Pizza  \n",
       "\n",
       "[14500 rows x 12 columns]"
      ]
     },
     "execution_count": 11,
     "metadata": {},
     "output_type": "execute_result"
    }
   ],
   "source": [
    "data.dropna()"
   ]
  },
  {
   "cell_type": "code",
   "execution_count": 12,
   "id": "c5b84d25",
   "metadata": {
    "execution": {
     "iopub.execute_input": "2024-11-20T11:45:48.990625Z",
     "iopub.status.busy": "2024-11-20T11:45:48.990271Z",
     "iopub.status.idle": "2024-11-20T11:45:48.997060Z",
     "shell.execute_reply": "2024-11-20T11:45:48.995857Z"
    },
    "papermill": {
     "duration": 0.021734,
     "end_time": "2024-11-20T11:45:48.999366",
     "exception": false,
     "start_time": "2024-11-20T11:45:48.977632",
     "status": "completed"
    },
    "tags": []
   },
   "outputs": [
    {
     "data": {
      "text/plain": [
       "(48620, 12)"
      ]
     },
     "execution_count": 12,
     "metadata": {},
     "output_type": "execute_result"
    }
   ],
   "source": [
    "data.shape"
   ]
  },
  {
   "cell_type": "code",
   "execution_count": 13,
   "id": "a202ea4e",
   "metadata": {
    "execution": {
     "iopub.execute_input": "2024-11-20T11:45:49.022821Z",
     "iopub.status.busy": "2024-11-20T11:45:49.022441Z",
     "iopub.status.idle": "2024-11-20T11:45:49.029779Z",
     "shell.execute_reply": "2024-11-20T11:45:49.028598Z"
    },
    "papermill": {
     "duration": 0.021859,
     "end_time": "2024-11-20T11:45:49.032178",
     "exception": false,
     "start_time": "2024-11-20T11:45:49.010319",
     "status": "completed"
    },
    "tags": []
   },
   "outputs": [
    {
     "data": {
      "text/plain": [
       "Index(['order_details_id', 'order_id', 'pizza_id', 'quantity', 'order_date',\n",
       "       'order_time', 'unit_price', 'total_price', 'pizza_size',\n",
       "       'pizza_category', 'pizza_ingredients', 'pizza_name'],\n",
       "      dtype='object')"
      ]
     },
     "execution_count": 13,
     "metadata": {},
     "output_type": "execute_result"
    }
   ],
   "source": [
    "data.columns\n",
    "#sütun etiketlerini gösterir."
   ]
  },
  {
   "cell_type": "code",
   "execution_count": 14,
   "id": "3e75c182",
   "metadata": {
    "execution": {
     "iopub.execute_input": "2024-11-20T11:45:49.056100Z",
     "iopub.status.busy": "2024-11-20T11:45:49.055284Z",
     "iopub.status.idle": "2024-11-20T11:45:49.106335Z",
     "shell.execute_reply": "2024-11-20T11:45:49.105128Z"
    },
    "papermill": {
     "duration": 0.0655,
     "end_time": "2024-11-20T11:45:49.108728",
     "exception": false,
     "start_time": "2024-11-20T11:45:49.043228",
     "status": "completed"
    },
    "tags": []
   },
   "outputs": [
    {
     "data": {
      "text/plain": [
       "0"
      ]
     },
     "execution_count": 14,
     "metadata": {},
     "output_type": "execute_result"
    }
   ],
   "source": [
    "#tekrarlayan satır olup olmadığını kontrol edelim.\n",
    "data.duplicated().sum()"
   ]
  },
  {
   "cell_type": "markdown",
   "id": "3aaabb20",
   "metadata": {
    "papermill": {
     "duration": 0.010876,
     "end_time": "2024-11-20T11:45:49.131496",
     "exception": false,
     "start_time": "2024-11-20T11:45:49.120620",
     "status": "completed"
    },
    "tags": []
   },
   "source": [
    "# Veri Analizi ve Görselleştirme"
   ]
  },
  {
   "cell_type": "markdown",
   "id": "4e5a5543",
   "metadata": {
    "papermill": {
     "duration": 0.010741,
     "end_time": "2024-11-20T11:45:49.153148",
     "exception": false,
     "start_time": "2024-11-20T11:45:49.142407",
     "status": "completed"
    },
    "tags": []
   },
   "source": [
    "#### Keşifsel Analizde Yardımcı Olacak Sorular\n",
    "##### Haftalık Analiz\n",
    "- Haftanın hangi günlerinde en fazla sipariş verilmiştir?\n",
    "- En fazla siparişin verildiği zaman dilimi nedir?\n",
    "##### Pizza Analizi\n",
    "- En düşük fiyatlı ve en yüksek fiyatlı pizza hangileridir?\n",
    "- En çok satılan pizzalar hangisi?\n",
    "- Kategori başına kaç farklı pizza vardır?\n",
    "- Boyut başına kaç farklı pizza vardır?\n",
    "- Birden fazla kategoriye ait pizzalar hangileridir?"
   ]
  },
  {
   "cell_type": "markdown",
   "id": "fa37493b",
   "metadata": {
    "papermill": {
     "duration": 0.010758,
     "end_time": "2024-11-20T11:45:49.176209",
     "exception": false,
     "start_time": "2024-11-20T11:45:49.165451",
     "status": "completed"
    },
    "tags": []
   },
   "source": [
    "#### Haftanın hangi günlerinde en fazla sipariş verilmiştir"
   ]
  },
  {
   "cell_type": "code",
   "execution_count": 15,
   "id": "8457ca67",
   "metadata": {
    "execution": {
     "iopub.execute_input": "2024-11-20T11:45:49.200482Z",
     "iopub.status.busy": "2024-11-20T11:45:49.200063Z",
     "iopub.status.idle": "2024-11-20T11:45:49.236308Z",
     "shell.execute_reply": "2024-11-20T11:45:49.234987Z"
    },
    "papermill": {
     "duration": 0.051397,
     "end_time": "2024-11-20T11:45:49.238973",
     "exception": false,
     "start_time": "2024-11-20T11:45:49.187576",
     "status": "completed"
    },
    "tags": []
   },
   "outputs": [
    {
     "name": "stdout",
     "output_type": "stream",
     "text": [
      "  Day of Week  Number of Orders\n",
      "0      Friday              7340\n",
      "1    Saturday              6667\n",
      "2    Thursday              6662\n",
      "3   Wednesday              6135\n",
      "4     Tuesday              6110\n",
      "5      Monday              5764\n",
      "6      Sunday              5346\n"
     ]
    }
   ],
   "source": [
    "data['order_date'] = pd.to_datetime(data['order_date'], errors='coerce')\n",
    "data['day_of_week'] = data['order_date'].dt.day_name()\n",
    "\n",
    "orders_by_day = data['day_of_week'].value_counts().reset_index()\n",
    "orders_by_day.columns = ['Day of Week', 'Number of Orders']\n",
    "\n",
    "print(orders_by_day)"
   ]
  },
  {
   "cell_type": "markdown",
   "id": "d895862b",
   "metadata": {
    "papermill": {
     "duration": 0.010818,
     "end_time": "2024-11-20T11:45:49.261042",
     "exception": false,
     "start_time": "2024-11-20T11:45:49.250224",
     "status": "completed"
    },
    "tags": []
   },
   "source": [
    "##### Günlük pizza satışlarını veren plot grafiği"
   ]
  },
  {
   "cell_type": "code",
   "execution_count": 16,
   "id": "c9ddaf2f",
   "metadata": {
    "execution": {
     "iopub.execute_input": "2024-11-20T11:45:49.285070Z",
     "iopub.status.busy": "2024-11-20T11:45:49.284626Z",
     "iopub.status.idle": "2024-11-20T11:45:49.700993Z",
     "shell.execute_reply": "2024-11-20T11:45:49.699854Z"
    },
    "papermill": {
     "duration": 0.431071,
     "end_time": "2024-11-20T11:45:49.703320",
     "exception": false,
     "start_time": "2024-11-20T11:45:49.272249",
     "status": "completed"
    },
    "tags": []
   },
   "outputs": [
    {
     "data": {
      "image/png": "[encoded data removed]",
      "text/plain": [
       "<Figure size 1600x800 with 1 Axes>"
      ]
     },
     "metadata": {},
     "output_type": "display_data"
    }
   ],
   "source": [
    "plt.figure(figsize=(8,4),dpi=200)\n",
    "sns.countplot(data=data, x='day_of_week')\n",
    "plt.xlabel(\"Weekday\")\n",
    "plt.ylabel(\"Orders Received\")\n",
    "plt.title(\"Weekday Vs. Orders Received\")\n",
    "plt.show();"
   ]
  },
  {
   "cell_type": "markdown",
   "id": "67b0ff19",
   "metadata": {
    "papermill": {
     "duration": 0.012331,
     "end_time": "2024-11-20T11:45:49.728069",
     "exception": false,
     "start_time": "2024-11-20T11:45:49.715738",
     "status": "completed"
    },
    "tags": []
   },
   "source": [
    "##### Toplam 6662 sipariş ile haftanın en yoğun günü Cuma'dır. Bu durum, insanların hafta sonu yaklaştığında pizza yemeye daha fazla eğilimli olabileceğini gösteriyor. Cuma günleri genellikle sosyal etkinlikler, arkadaş buluşmaları veya hafta sonu başlangıcı gibi durumlar pizza satışlarını artırabilir.\n",
    "##### Hafta ortası satışlar  genelde aynı düzeylerdedir."
   ]
  },
  {
   "cell_type": "markdown",
   "id": "783c0fb7",
   "metadata": {
    "papermill": {
     "duration": 0.012206,
     "end_time": "2024-11-20T11:45:49.752990",
     "exception": false,
     "start_time": "2024-11-20T11:45:49.740784",
     "status": "completed"
    },
    "tags": []
   },
   "source": [
    "#### Hangi saatlerde en çok sipariş alınıyor?"
   ]
  },
  {
   "cell_type": "code",
   "execution_count": 17,
   "id": "08dd27b3",
   "metadata": {
    "execution": {
     "iopub.execute_input": "2024-11-20T11:45:49.779731Z",
     "iopub.status.busy": "2024-11-20T11:45:49.779363Z",
     "iopub.status.idle": "2024-11-20T11:45:49.823797Z",
     "shell.execute_reply": "2024-11-20T11:45:49.822499Z"
    },
    "papermill": {
     "duration": 0.060736,
     "end_time": "2024-11-20T11:45:49.826352",
     "exception": false,
     "start_time": "2024-11-20T11:45:49.765616",
     "status": "completed"
    },
    "tags": []
   },
   "outputs": [
    {
     "name": "stdout",
     "output_type": "stream",
     "text": [
      "Empty DataFrame\n",
      "Columns: [Hour, Number of Orders]\n",
      "Index: []\n"
     ]
    }
   ],
   "source": [
    "data['order_time'] = pd.to_datetime(data['order_time'], errors='coerce').dt.hour\n",
    "orders_by_hour = data['order_time'].value_counts().sort_index().reset_index()\n",
    "orders_by_hour.columns = ['Hour', 'Number of Orders']\n",
    "\n",
    "print(orders_by_hour)"
   ]
  },
  {
   "cell_type": "markdown",
   "id": "b4d011a5",
   "metadata": {
    "papermill": {
     "duration": 0.011994,
     "end_time": "2024-11-20T11:45:49.850753",
     "exception": false,
     "start_time": "2024-11-20T11:45:49.838759",
     "status": "completed"
    },
    "tags": []
   },
   "source": [
    "##### Yukardaki çıktıya göre order_time sütununda eksik (NaN) veya geçersiz formatta (örneğin, saat yerine metin) veriler olabilir.O yüzden order_time sütunlarını kontrol edelim."
   ]
  },
  {
   "cell_type": "code",
   "execution_count": 18,
   "id": "7850ca0f",
   "metadata": {
    "execution": {
     "iopub.execute_input": "2024-11-20T11:45:49.877851Z",
     "iopub.status.busy": "2024-11-20T11:45:49.877490Z",
     "iopub.status.idle": "2024-11-20T11:45:49.885068Z",
     "shell.execute_reply": "2024-11-20T11:45:49.883814Z"
    },
    "papermill": {
     "duration": 0.023884,
     "end_time": "2024-11-20T11:45:49.887522",
     "exception": false,
     "start_time": "2024-11-20T11:45:49.863638",
     "status": "completed"
    },
    "tags": []
   },
   "outputs": [
    {
     "name": "stdout",
     "output_type": "stream",
     "text": [
      "0   NaN\n",
      "1   NaN\n",
      "2   NaN\n",
      "3   NaN\n",
      "4   NaN\n",
      "5   NaN\n",
      "6   NaN\n",
      "7   NaN\n",
      "8   NaN\n",
      "9   NaN\n",
      "Name: order_time, dtype: float64\n",
      "48620\n"
     ]
    }
   ],
   "source": [
    "print(data['order_time'].head(10))  # İlk 10 değeri kontrol et\n",
    "print(data['order_time'].isnull().sum())  # Eksik değer sayısını kontrol et"
   ]
  },
  {
   "cell_type": "markdown",
   "id": "381802f9",
   "metadata": {
    "papermill": {
     "duration": 0.011936,
     "end_time": "2024-11-20T11:45:49.911654",
     "exception": false,
     "start_time": "2024-11-20T11:45:49.899718",
     "status": "completed"
    },
    "tags": []
   },
   "source": [
    "##### Saat bilgilerinin tümü etsik olduğu için random değerler ile dolduralım."
   ]
  },
  {
   "cell_type": "code",
   "execution_count": 19,
   "id": "e443b243",
   "metadata": {
    "execution": {
     "iopub.execute_input": "2024-11-20T11:45:49.938001Z",
     "iopub.status.busy": "2024-11-20T11:45:49.937565Z",
     "iopub.status.idle": "2024-11-20T11:45:50.711026Z",
     "shell.execute_reply": "2024-11-20T11:45:50.709785Z"
    },
    "papermill": {
     "duration": 0.789939,
     "end_time": "2024-11-20T11:45:50.713920",
     "exception": false,
     "start_time": "2024-11-20T11:45:49.923981",
     "status": "completed"
    },
    "tags": []
   },
   "outputs": [],
   "source": [
    "data['order_time'] = data['order_date'].apply(\n",
    "lambda x: pd.Timestamp(x) + pd.to_timedelta(random.randint(0, 23), unit='h')\n",
    ")"
   ]
  },
  {
   "cell_type": "markdown",
   "id": "d22bb69b",
   "metadata": {
    "papermill": {
     "duration": 0.01205,
     "end_time": "2024-11-20T11:45:50.739659",
     "exception": false,
     "start_time": "2024-11-20T11:45:50.727609",
     "status": "completed"
    },
    "tags": []
   },
   "source": [
    "##### order_time verilerinin dolup dolmadığını kontrol  edelim."
   ]
  },
  {
   "cell_type": "code",
   "execution_count": 20,
   "id": "ac1a9431",
   "metadata": {
    "execution": {
     "iopub.execute_input": "2024-11-20T11:45:50.765774Z",
     "iopub.status.busy": "2024-11-20T11:45:50.765377Z",
     "iopub.status.idle": "2024-11-20T11:45:50.773589Z",
     "shell.execute_reply": "2024-11-20T11:45:50.772291Z"
    },
    "papermill": {
     "duration": 0.023808,
     "end_time": "2024-11-20T11:45:50.775816",
     "exception": false,
     "start_time": "2024-11-20T11:45:50.752008",
     "status": "completed"
    },
    "tags": []
   },
   "outputs": [
    {
     "data": {
      "text/plain": [
       "0   2015-01-01 19:00:00\n",
       "1   2015-01-01 03:00:00\n",
       "2   2015-01-01 04:00:00\n",
       "3   2015-01-01 11:00:00\n",
       "4   2015-01-01 19:00:00\n",
       "5   2015-01-01 13:00:00\n",
       "6   2015-01-01 21:00:00\n",
       "7   2015-01-01 04:00:00\n",
       "8                   NaT\n",
       "9   2015-01-01 15:00:00\n",
       "Name: order_time, dtype: datetime64[ns]"
      ]
     },
     "execution_count": 20,
     "metadata": {},
     "output_type": "execute_result"
    }
   ],
   "source": [
    "data['order_time'].head(10)"
   ]
  },
  {
   "cell_type": "markdown",
   "id": "ae8721aa",
   "metadata": {
    "papermill": {
     "duration": 0.011917,
     "end_time": "2024-11-20T11:45:50.800058",
     "exception": false,
     "start_time": "2024-11-20T11:45:50.788141",
     "status": "completed"
    },
    "tags": []
   },
   "source": [
    "##### order_time verilereini rastgele doldurduk şimdi hangi saatlerde en çok sipariş alınmış tekrardan bakabiliriz."
   ]
  },
  {
   "cell_type": "code",
   "execution_count": 21,
   "id": "5fc08ab1",
   "metadata": {
    "execution": {
     "iopub.execute_input": "2024-11-20T11:45:50.826084Z",
     "iopub.status.busy": "2024-11-20T11:45:50.825662Z",
     "iopub.status.idle": "2024-11-20T11:45:50.848715Z",
     "shell.execute_reply": "2024-11-20T11:45:50.847590Z"
    },
    "papermill": {
     "duration": 0.038819,
     "end_time": "2024-11-20T11:45:50.851093",
     "exception": false,
     "start_time": "2024-11-20T11:45:50.812274",
     "status": "completed"
    },
    "tags": []
   },
   "outputs": [
    {
     "name": "stdout",
     "output_type": "stream",
     "text": [
      "    Hour  Number of Orders\n",
      "0    0.0              1759\n",
      "1    1.0              1762\n",
      "2    2.0              1881\n",
      "3    3.0              1768\n",
      "4    4.0              1912\n",
      "5    5.0              1840\n",
      "6    6.0              1821\n",
      "7    7.0              1801\n",
      "8    8.0              1815\n",
      "9    9.0              1841\n",
      "10  10.0              1848\n",
      "11  11.0              1796\n",
      "12  12.0              1916\n",
      "13  13.0              1816\n",
      "14  14.0              1839\n",
      "15  15.0              1821\n",
      "16  16.0              1881\n",
      "17  17.0              1839\n",
      "18  18.0              1861\n",
      "19  19.0              1787\n",
      "20  20.0              1810\n",
      "21  21.0              1889\n",
      "22  22.0              1909\n",
      "23  23.0              1812\n"
     ]
    }
   ],
   "source": [
    "data['order_time'] = pd.to_datetime(data['order_time'], errors='coerce').dt.hour\n",
    "orders_by_hour = data['order_time'].value_counts().sort_index().reset_index()\n",
    "orders_by_hour.columns = ['Hour', 'Number of Orders']\n",
    "\n",
    "print(orders_by_hour)"
   ]
  },
  {
   "cell_type": "markdown",
   "id": "ac3ad391",
   "metadata": {
    "papermill": {
     "duration": 0.012291,
     "end_time": "2024-11-20T11:45:50.876027",
     "exception": false,
     "start_time": "2024-11-20T11:45:50.863736",
     "status": "completed"
    },
    "tags": []
   },
   "source": [
    "#### En düşük fiyatlı ve en yüksek fiyatlı pizza hangileridir?"
   ]
  },
  {
   "cell_type": "code",
   "execution_count": 22,
   "id": "89feade2",
   "metadata": {
    "execution": {
     "iopub.execute_input": "2024-11-20T11:45:50.903139Z",
     "iopub.status.busy": "2024-11-20T11:45:50.902689Z",
     "iopub.status.idle": "2024-11-20T11:45:50.913538Z",
     "shell.execute_reply": "2024-11-20T11:45:50.912529Z"
    },
    "papermill": {
     "duration": 0.027037,
     "end_time": "2024-11-20T11:45:50.915700",
     "exception": false,
     "start_time": "2024-11-20T11:45:50.888663",
     "status": "completed"
    },
    "tags": []
   },
   "outputs": [
    {
     "data": {
      "text/plain": [
       "array(['the_greek_xxl', nan], dtype=object)"
      ]
     },
     "execution_count": 22,
     "metadata": {},
     "output_type": "execute_result"
    }
   ],
   "source": [
    "# en pahalı pizza\n",
    "max_price = data[\"unit_price\"].max()\n",
    "data.loc[data[\"unit_price\"] == max_price].pizza_id.unique()"
   ]
  },
  {
   "cell_type": "code",
   "execution_count": 23,
   "id": "018ddcf2",
   "metadata": {
    "execution": {
     "iopub.execute_input": "2024-11-20T11:45:50.942307Z",
     "iopub.status.busy": "2024-11-20T11:45:50.941883Z",
     "iopub.status.idle": "2024-11-20T11:45:50.950408Z",
     "shell.execute_reply": "2024-11-20T11:45:50.949290Z"
    },
    "papermill": {
     "duration": 0.024663,
     "end_time": "2024-11-20T11:45:50.952804",
     "exception": false,
     "start_time": "2024-11-20T11:45:50.928141",
     "status": "completed"
    },
    "tags": []
   },
   "outputs": [
    {
     "data": {
      "text/plain": [
       "'pepperoni_s'"
      ]
     },
     "execution_count": 23,
     "metadata": {},
     "output_type": "execute_result"
    }
   ],
   "source": [
    "# en ucuz pizza\n",
    "min_price = data.unit_price.idxmin()\n",
    "data.loc[min_price].pizza_id"
   ]
  },
  {
   "cell_type": "markdown",
   "id": "90ee7aa1",
   "metadata": {
    "papermill": {
     "duration": 0.013171,
     "end_time": "2024-11-20T11:45:50.979003",
     "exception": false,
     "start_time": "2024-11-20T11:45:50.965832",
     "status": "completed"
    },
    "tags": []
   },
   "source": [
    "#### En çok satılan pizza hangisidir?"
   ]
  },
  {
   "cell_type": "code",
   "execution_count": 24,
   "id": "92722184",
   "metadata": {
    "execution": {
     "iopub.execute_input": "2024-11-20T11:45:51.006067Z",
     "iopub.status.busy": "2024-11-20T11:45:51.005650Z",
     "iopub.status.idle": "2024-11-20T11:45:51.023633Z",
     "shell.execute_reply": "2024-11-20T11:45:51.022532Z"
    },
    "papermill": {
     "duration": 0.034399,
     "end_time": "2024-11-20T11:45:51.026070",
     "exception": false,
     "start_time": "2024-11-20T11:45:50.991671",
     "status": "completed"
    },
    "tags": []
   },
   "outputs": [
    {
     "data": {
      "text/html": [
       "<div>\n",
       "<style scoped>\n",
       "    .dataframe tbody tr th:only-of-type {\n",
       "        vertical-align: middle;\n",
       "    }\n",
       "\n",
       "    .dataframe tbody tr th {\n",
       "        vertical-align: top;\n",
       "    }\n",
       "\n",
       "    .dataframe thead th {\n",
       "        text-align: right;\n",
       "    }\n",
       "</style>\n",
       "<table border=\"1\" class=\"dataframe\">\n",
       "  <thead>\n",
       "    <tr style=\"text-align: right;\">\n",
       "      <th></th>\n",
       "      <th>pizza_id</th>\n",
       "      <th>most_sold</th>\n",
       "    </tr>\n",
       "  </thead>\n",
       "  <tbody>\n",
       "    <tr>\n",
       "      <th>0</th>\n",
       "      <td>big_meat_s</td>\n",
       "      <td>1587.0</td>\n",
       "    </tr>\n",
       "    <tr>\n",
       "      <th>1</th>\n",
       "      <td>thai_ckn_l</td>\n",
       "      <td>1151.0</td>\n",
       "    </tr>\n",
       "    <tr>\n",
       "      <th>2</th>\n",
       "      <td>five_cheese_l</td>\n",
       "      <td>1134.0</td>\n",
       "    </tr>\n",
       "    <tr>\n",
       "      <th>3</th>\n",
       "      <td>four_cheese_l</td>\n",
       "      <td>1073.0</td>\n",
       "    </tr>\n",
       "    <tr>\n",
       "      <th>4</th>\n",
       "      <td>classic_dlx_m</td>\n",
       "      <td>970.0</td>\n",
       "    </tr>\n",
       "    <tr>\n",
       "      <th>5</th>\n",
       "      <td>spicy_ital_l</td>\n",
       "      <td>893.0</td>\n",
       "    </tr>\n",
       "    <tr>\n",
       "      <th>6</th>\n",
       "      <td>southw_ckn_l</td>\n",
       "      <td>829.0</td>\n",
       "    </tr>\n",
       "    <tr>\n",
       "      <th>7</th>\n",
       "      <td>hawaiian_s</td>\n",
       "      <td>827.0</td>\n",
       "    </tr>\n",
       "    <tr>\n",
       "      <th>8</th>\n",
       "      <td>bbq_ckn_l</td>\n",
       "      <td>814.0</td>\n",
       "    </tr>\n",
       "    <tr>\n",
       "      <th>9</th>\n",
       "      <td>bbq_ckn_m</td>\n",
       "      <td>790.0</td>\n",
       "    </tr>\n",
       "  </tbody>\n",
       "</table>\n",
       "</div>"
      ],
      "text/plain": [
       "        pizza_id  most_sold\n",
       "0     big_meat_s     1587.0\n",
       "1     thai_ckn_l     1151.0\n",
       "2  five_cheese_l     1134.0\n",
       "3  four_cheese_l     1073.0\n",
       "4  classic_dlx_m      970.0\n",
       "5   spicy_ital_l      893.0\n",
       "6   southw_ckn_l      829.0\n",
       "7     hawaiian_s      827.0\n",
       "8      bbq_ckn_l      814.0\n",
       "9      bbq_ckn_m      790.0"
      ]
     },
     "execution_count": 24,
     "metadata": {},
     "output_type": "execute_result"
    }
   ],
   "source": [
    "# En çok satılan pizzalar \n",
    "most_sold = data.groupby(\"pizza_id\")[\"quantity\"].sum().sort_values(ascending = False).reset_index(name = \"most_sold\").head(10)\n",
    "most_sold"
   ]
  },
  {
   "cell_type": "markdown",
   "id": "6d154c4a",
   "metadata": {
    "papermill": {
     "duration": 0.012947,
     "end_time": "2024-11-20T11:45:51.051967",
     "exception": false,
     "start_time": "2024-11-20T11:45:51.039020",
     "status": "completed"
    },
    "tags": []
   },
   "source": [
    "##### En çok satılan pizzaları daha hızlı ve görsel olarak görmek için grafik oluşturalım. "
   ]
  },
  {
   "cell_type": "code",
   "execution_count": 25,
   "id": "087c1a98",
   "metadata": {
    "execution": {
     "iopub.execute_input": "2024-11-20T11:45:51.079136Z",
     "iopub.status.busy": "2024-11-20T11:45:51.078734Z",
     "iopub.status.idle": "2024-11-20T11:45:51.473623Z",
     "shell.execute_reply": "2024-11-20T11:45:51.472270Z"
    },
    "papermill": {
     "duration": 0.411497,
     "end_time": "2024-11-20T11:45:51.476159",
     "exception": false,
     "start_time": "2024-11-20T11:45:51.064662",
     "status": "completed"
    },
    "tags": []
   },
   "outputs": [
    {
     "data": {
      "image/png": "[encoded data removed]",
      "text/plain": [
       "<Figure size 1800x900 with 1 Axes>"
      ]
     },
     "metadata": {},
     "output_type": "display_data"
    }
   ],
   "source": [
    "# Bar Grafiği Oluşturma\n",
    "plt.figure(figsize=(18, 9))\n",
    "plt.bar(most_sold['pizza_id'], most_sold['most_sold'], color='orange', edgecolor='darkgreen')\n",
    "\n",
    "# Grafik Başlık ve Etiketleri\n",
    "plt.title(\"En çok satılan pizzalar\", fontsize=18, color=\"darkgreen\")\n",
    "plt.xlabel(\"Pizza ID\", fontsize=14)\n",
    "plt.ylabel(\"Count of Pizza's Sold\", fontsize=14)\n",
    "\n",
    "# Her Çubuğun Üstüne Değerleri Ekleme\n",
    "for index, value in enumerate(most_sold['most_sold']):\n",
    "    plt.text(index, value + 5, str(value), ha='center', fontsize=16,color=\"darkgreen\")\n",
    "\n",
    "# Gösterim\n",
    "plt.show()"
   ]
  },
  {
   "cell_type": "markdown",
   "id": "4b03d159",
   "metadata": {
    "papermill": {
     "duration": 0.013317,
     "end_time": "2024-11-20T11:45:51.503580",
     "exception": false,
     "start_time": "2024-11-20T11:45:51.490263",
     "status": "completed"
    },
    "tags": []
   },
   "source": [
    "#### Kategori başına kaç farklı pizza vardır?"
   ]
  },
  {
   "cell_type": "code",
   "execution_count": 26,
   "id": "66904dc3",
   "metadata": {
    "execution": {
     "iopub.execute_input": "2024-11-20T11:45:51.532786Z",
     "iopub.status.busy": "2024-11-20T11:45:51.532345Z",
     "iopub.status.idle": "2024-11-20T11:45:51.545932Z",
     "shell.execute_reply": "2024-11-20T11:45:51.543639Z"
    },
    "papermill": {
     "duration": 0.033003,
     "end_time": "2024-11-20T11:45:51.550169",
     "exception": false,
     "start_time": "2024-11-20T11:45:51.517166",
     "status": "completed"
    },
    "tags": []
   },
   "outputs": [
    {
     "name": "stdout",
     "output_type": "stream",
     "text": [
      "Kategori Başına Pizza Sayısı:\n",
      " pizza_category\n",
      "Classic    13266\n",
      "Supreme    10691\n",
      "Veggie     10354\n",
      "Chicken     9810\n",
      "Name: count, dtype: int64\n"
     ]
    }
   ],
   "source": [
    "\n",
    "pizzas_per_category = data['pizza_category'].value_counts()\n",
    "print(\"Kategori Başına Pizza Sayısı:\\n\", pizzas_per_category)"
   ]
  },
  {
   "cell_type": "markdown",
   "id": "975e67b9",
   "metadata": {
    "papermill": {
     "duration": 0.014419,
     "end_time": "2024-11-20T11:45:51.579154",
     "exception": false,
     "start_time": "2024-11-20T11:45:51.564735",
     "status": "completed"
    },
    "tags": []
   },
   "source": [
    "##### Kategoriye göre pizza dağılımını veren pie grafiği"
   ]
  },
  {
   "cell_type": "code",
   "execution_count": 27,
   "id": "d4be57c8",
   "metadata": {
    "execution": {
     "iopub.execute_input": "2024-11-20T11:45:51.610783Z",
     "iopub.status.busy": "2024-11-20T11:45:51.610403Z",
     "iopub.status.idle": "2024-11-20T11:45:51.799925Z",
     "shell.execute_reply": "2024-11-20T11:45:51.798438Z"
    },
    "papermill": {
     "duration": 0.210385,
     "end_time": "2024-11-20T11:45:51.804856",
     "exception": false,
     "start_time": "2024-11-20T11:45:51.594471",
     "status": "completed"
    },
    "tags": []
   },
   "outputs": [
    {
     "data": {
      "image/png": "[encoded data removed]",
      "text/plain": [
       "<Figure size 640x480 with 1 Axes>"
      ]
     },
     "metadata": {},
     "output_type": "display_data"
    }
   ],
   "source": [
    "pizzas_per_category.plot(kind='pie', autopct='%1.1f%%')\n",
    "plt.title('Kategoriye göre Pizza')\n",
    "plt.axis('equal')\n",
    "plt.show()"
   ]
  },
  {
   "cell_type": "markdown",
   "id": "b5ef7178",
   "metadata": {
    "papermill": {
     "duration": 0.014242,
     "end_time": "2024-11-20T11:45:51.854841",
     "exception": false,
     "start_time": "2024-11-20T11:45:51.840599",
     "status": "completed"
    },
    "tags": []
   },
   "source": [
    "#### Boyut başına kaç farklı pizza vardır?"
   ]
  },
  {
   "cell_type": "code",
   "execution_count": 28,
   "id": "badcfbe6",
   "metadata": {
    "execution": {
     "iopub.execute_input": "2024-11-20T11:45:51.885731Z",
     "iopub.status.busy": "2024-11-20T11:45:51.885326Z",
     "iopub.status.idle": "2024-11-20T11:45:51.895248Z",
     "shell.execute_reply": "2024-11-20T11:45:51.893978Z"
    },
    "papermill": {
     "duration": 0.028877,
     "end_time": "2024-11-20T11:45:51.898112",
     "exception": false,
     "start_time": "2024-11-20T11:45:51.869235",
     "status": "completed"
    },
    "tags": []
   },
   "outputs": [
    {
     "name": "stdout",
     "output_type": "stream",
     "text": [
      "Boyut Başına Pizza Sayısı:\n",
      " pizza_size\n",
      "L      16826\n",
      "M      13900\n",
      "S      12804\n",
      "XL       494\n",
      "XXL       25\n",
      "Name: count, dtype: int64\n"
     ]
    }
   ],
   "source": [
    "pizzas_per_size = data['pizza_size'].value_counts()\n",
    "print(\"Boyut Başına Pizza Sayısı:\\n\", pizzas_per_size)"
   ]
  },
  {
   "cell_type": "markdown",
   "id": "b69253c3",
   "metadata": {
    "papermill": {
     "duration": 0.014077,
     "end_time": "2024-11-20T11:45:51.926912",
     "exception": false,
     "start_time": "2024-11-20T11:45:51.912835",
     "status": "completed"
    },
    "tags": []
   },
   "source": [
    "##### Boyut başına pizza sayısını veren pie grafiği"
   ]
  },
  {
   "cell_type": "code",
   "execution_count": 29,
   "id": "5108e823",
   "metadata": {
    "execution": {
     "iopub.execute_input": "2024-11-20T11:45:51.957634Z",
     "iopub.status.busy": "2024-11-20T11:45:51.957244Z",
     "iopub.status.idle": "2024-11-20T11:45:52.118456Z",
     "shell.execute_reply": "2024-11-20T11:45:52.117131Z"
    },
    "papermill": {
     "duration": 0.181679,
     "end_time": "2024-11-20T11:45:52.122914",
     "exception": false,
     "start_time": "2024-11-20T11:45:51.941235",
     "status": "completed"
    },
    "tags": []
   },
   "outputs": [
    {
     "data": {
      "image/png": "[encoded data removed]",
      "text/plain": [
       "<Figure size 640x480 with 1 Axes>"
      ]
     },
     "metadata": {},
     "output_type": "display_data"
    }
   ],
   "source": [
    "# pizza per size\n",
    "pizzas_per_size.plot(kind='pie', autopct='%1.1f%%')\n",
    "plt.title('Boyut Başına Pizza Sayısı')\n",
    "plt.axis('equal')\n",
    "plt.show()"
   ]
  },
  {
   "cell_type": "markdown",
   "id": "3fb62048",
   "metadata": {
    "papermill": {
     "duration": 0.016365,
     "end_time": "2024-11-20T11:45:52.180852",
     "exception": false,
     "start_time": "2024-11-20T11:45:52.164487",
     "status": "completed"
    },
    "tags": []
   },
   "source": [
    "#### Birden fazla kategoriye ait pizzalar hangileridir?"
   ]
  },
  {
   "cell_type": "code",
   "execution_count": 30,
   "id": "7ebd748f",
   "metadata": {
    "execution": {
     "iopub.execute_input": "2024-11-20T11:45:52.217741Z",
     "iopub.status.busy": "2024-11-20T11:45:52.217371Z",
     "iopub.status.idle": "2024-11-20T11:45:52.242495Z",
     "shell.execute_reply": "2024-11-20T11:45:52.241162Z"
    },
    "papermill": {
     "duration": 0.043803,
     "end_time": "2024-11-20T11:45:52.244830",
     "exception": false,
     "start_time": "2024-11-20T11:45:52.201027",
     "status": "completed"
    },
    "tags": []
   },
   "outputs": [
    {
     "name": "stdout",
     "output_type": "stream",
     "text": [
      "Birden Fazla Kategorili Pizzalar:\n",
      " Empty DataFrame\n",
      "Columns: [order_details_id, order_id, pizza_id, quantity, order_date, order_time, unit_price, total_price, pizza_size, pizza_category, pizza_ingredients, pizza_name, day_of_week]\n",
      "Index: []\n"
     ]
    }
   ],
   "source": [
    "pizzas_with_multiple_categories = data.groupby('pizza_name').filter(lambda x: x['pizza_category'].nunique() > 1)\n",
    "print(\"Birden Fazla Kategorili Pizzalar:\\n\", pizzas_with_multiple_categories)"
   ]
  },
  {
   "cell_type": "markdown",
   "id": "fa6aec5a",
   "metadata": {
    "papermill": {
     "duration": 0.014729,
     "end_time": "2024-11-20T11:45:52.274588",
     "exception": false,
     "start_time": "2024-11-20T11:45:52.259859",
     "status": "completed"
    },
    "tags": []
   },
   "source": [
    "##### Birden fazla kategoriye sahip pizza yoktur."
   ]
  },
  {
   "cell_type": "markdown",
   "id": "52ac4350",
   "metadata": {
    "papermill": {
     "duration": 0.01506,
     "end_time": "2024-11-20T11:45:52.304700",
     "exception": false,
     "start_time": "2024-11-20T11:45:52.289640",
     "status": "completed"
    },
    "tags": []
   },
   "source": [
    "# Çözüm"
   ]
  },
  {
   "cell_type": "markdown",
   "id": "e6a8cca9",
   "metadata": {
    "papermill": {
     "duration": 0.014868,
     "end_time": "2024-11-20T11:45:52.334502",
     "exception": false,
     "start_time": "2024-11-20T11:45:52.319634",
     "status": "completed"
    },
    "tags": []
   },
   "source": [
    "- Fiyata Göre Pizza\n",
    "|Kategori|En Pahalı|En Ucuz|\n",
    "|---|---|---|\n",
    "|PİZZA |The Pepperoni Pizza|The Greek Pizza|"
   ]
  },
  {
   "cell_type": "markdown",
   "id": "cf1fb4de",
   "metadata": {
    "papermill": {
     "duration": 0.014908,
     "end_time": "2024-11-20T11:45:52.364654",
     "exception": false,
     "start_time": "2024-11-20T11:45:52.349746",
     "status": "completed"
    },
    "tags": []
   },
   "source": [
    "- Büyüklük ve Kategoriye Göre Pizza\n",
    "|Kategori|EN ÇOK TERCİH EDİLEN|EN AZ TERCİH EDİLEN|\n",
    "|---|---|---|\n",
    "|PİZZA BOYUTU|LARGE(L)|XXL|\n",
    "|PİZZA KATEGORİ|SUPREME|CHİCKEN|"
   ]
  },
  {
   "cell_type": "markdown",
   "id": "d8a70043",
   "metadata": {
    "papermill": {
     "duration": 0.015271,
     "end_time": "2024-11-20T11:45:52.395124",
     "exception": false,
     "start_time": "2024-11-20T11:45:52.379853",
     "status": "completed"
    },
    "tags": []
   },
   "source": [
    "- Günlerde pazartesiden çarşambaya benzer bir sonuç görüyoruz, Perşembe yükseliyor, Cumazirve yapıyor, Cumartesi perşembeye benziyor ve pazar  en sakin gün olarak yorumlayabilir."
   ]
  },
  {
   "cell_type": "markdown",
   "id": "64810466",
   "metadata": {
    "papermill": {
     "duration": 0.01495,
     "end_time": "2024-11-20T11:45:52.425368",
     "exception": false,
     "start_time": "2024-11-20T11:45:52.410418",
     "status": "completed"
    },
    "tags": []
   },
   "source": [
    "- Müşteriler genellikle large boy pizzaları tercih etmektedir.Toplamın sadece% 1,12'sini temsil eden XXL boyutu dışında hepsinin dengeli bir dağılımı vardır.Maliyetleri düşürmek için bir süreç standardizasyonunda düşünmek, restoranın XXL boyutunun kesilmesini analiz etmesi ilginç olabil\n"
   ]
  },
  {
   "cell_type": "markdown",
   "id": "e4a09b8a",
   "metadata": {
    "papermill": {
     "duration": 0.015018,
     "end_time": "2024-11-20T11:45:52.456011",
     "exception": false,
     "start_time": "2024-11-20T11:45:52.440993",
     "status": "completed"
    },
    "tags": []
   },
   "source": [
    "- Küçük boy Big Meat pizza, en çok satan ürün olduğundan, boyut ve fiyatın popülerlik üzerinde etkili olabileceği düşünülebilir. Ancak, bu hipotezi çürüten bir durum olarak, ikinci sırada Büyük boy Thai Chicken pizza yer alıyor. Bu durum, lezzet, baharatlama veya popülerliği etkileyen başka bilinmeyen faktörlerin de devrede olabileceğini göstermektedir. "
   ]
  },
  {
   "cell_type": "markdown",
   "id": "6e6beeb2",
   "metadata": {
    "papermill": {
     "duration": 0.014731,
     "end_time": "2024-11-20T11:45:52.485850",
     "exception": false,
     "start_time": "2024-11-20T11:45:52.471119",
     "status": "completed"
    },
    "tags": []
   },
   "source": [
    "- Saat ile verileri rastgele doldurduğumuz için onlara göre yorum yapmak doğru olmaz."
   ]
  }
 ],
 "metadata": {
  "kaggle": {
   "accelerator": "none",
   "dataSources": [
    {
     "datasetId": 2566526,
     "sourceId": 4363377,
     "sourceType": "datasetVersion"
    }
   ],
   "dockerImageVersionId": 30786,
   "isGpuEnabled": false,
   "isInternetEnabled": true,
   "language": "python",
   "sourceType": "notebook"
  },
  "kernelspec": {
   "display_name": "Python 3",
   "language": "python",
   "name": "python3"
  },
  "language_info": {
   "codemirror_mode": {
    "name": "ipython",
    "version": 3
   },
   "file_extension": ".py",
   "mimetype": "text/x-python",
   "name": "python",
   "nbconvert_exporter": "python",
   "pygments_lexer": "ipython3",
   "version": "3.10.14"
  },
  "papermill": {
   "default_parameters": {},
   "duration": 20.585443,
   "end_time": "2024-11-20T11:45:53.223569",
   "environment_variables": {},
   "exception": null,
   "input_path": "__notebook__.ipynb",
   "output_path": "__notebook__.ipynb",
   "parameters": {},
   "start_time": "2024-11-20T11:45:32.638126",
   "version": "2.6.0"
  }
 },
 "nbformat": 4,
 "nbformat_minor": 5
}
